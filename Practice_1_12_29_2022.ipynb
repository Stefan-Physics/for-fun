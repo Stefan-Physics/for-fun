{
  "nbformat": 4,
  "nbformat_minor": 0,
  "metadata": {
    "colab": {
      "provenance": [],
      "authorship_tag": "ABX9TyO9+XSbpqYaD6bQ8KI6qc29",
      "include_colab_link": true
    },
    "kernelspec": {
      "name": "python3",
      "display_name": "Python 3"
    },
    "language_info": {
      "name": "python"
    }
  },
  "cells": [
    {
      "cell_type": "markdown",
      "metadata": {
        "id": "view-in-github",
        "colab_type": "text"
      },
      "source": [
        "<a href=\"https://colab.research.google.com/github/Stefan-Physics/for-fun/blob/main/Practice_1_12_29_2022.ipynb\" target=\"_parent\"><img src=\"https://colab.research.google.com/assets/colab-badge.svg\" alt=\"Open In Colab\"/></a>"
      ]
    },
    {
      "cell_type": "code",
      "source": [
        "print(\"hi\")\n",
        "import numpy as np\n",
        "import matplotlib.pyplot as plt"
      ],
      "metadata": {
        "colab": {
          "base_uri": "https://localhost:8080/"
        },
        "id": "Jyfl5U1MuX6Q",
        "outputId": "3abff7e2-82b1-40a5-e0af-00c8b634a69e"
      },
      "execution_count": 7,
      "outputs": [
        {
          "output_type": "stream",
          "name": "stdout",
          "text": [
            "hi\n"
          ]
        }
      ]
    },
    {
      "cell_type": "code",
      "source": [
        "from IPython.lib.security import random\n",
        "#to think about if one were meta solve (a + b)/ c\n",
        "f = np.random.rand()\n",
        "a = float(f)\n",
        "\n",
        "b = float(input(\"b is \"))\n",
        "c = eval(input(\"c is \")) #how to make it take inputs without putting the .0 afterward\n",
        "\n",
        "e = a*b\n",
        "if c == 0:\n",
        "  print(\"solution is undefined\")\n",
        "elif e ==0:\n",
        "  print(\"solution is 0\")\n",
        "else:\n",
        "  d = (a + b)/ c\n",
        "  print(d)\n",
        "  print(d)\n"
      ],
      "metadata": {
        "id": "qZXQRNLo1P8N",
        "outputId": "a9482d38-1cb4-4351-cefa-e2a6d1d16168",
        "colab": {
          "base_uri": "https://localhost:8080/"
        }
      },
      "execution_count": 22,
      "outputs": [
        {
          "output_type": "stream",
          "name": "stdout",
          "text": [
            "b is 2\n",
            "c is 3\n",
            "0.676989599805846\n",
            "0.676989599805846\n"
          ]
        }
      ]
    },
    {
      "cell_type": "code",
      "source": [
        "a = np.random.rand(2,5)\n",
        "print(a)\n",
        "for pice in a:\n",
        "  print (2*pice)\n",
        "\n",
        "for tpice in [\"Max\", \"Molly\", \"Buster\", \"Maggie\", \"Lucy\"]:\n",
        "  print (2*tpice)"
      ],
      "metadata": {
        "id": "OHb6JqAB2_ld",
        "outputId": "aafaefc2-ccd4-4442-e135-ef525867bd4f",
        "colab": {
          "base_uri": "https://localhost:8080/"
        }
      },
      "execution_count": null,
      "outputs": [
        {
          "output_type": "stream",
          "name": "stdout",
          "text": [
            "[[0.22059123 0.26833363 0.91586503 0.43523151 0.46888078]\n",
            " [0.10564501 0.44124301 0.31561526 0.4715396  0.67444165]]\n",
            "[0.44118247 0.53666726 1.83173005 0.87046301 0.93776156]\n",
            "[0.21129001 0.88248602 0.63123053 0.9430792  1.34888331]\n",
            "MaxMax\n",
            "MollyMolly\n",
            "BusterBuster\n",
            "MaggieMaggie\n",
            "LucyLucy\n"
          ]
        }
      ]
    },
    {
      "cell_type": "code",
      "source": [
        "a = np.random.randn()\n",
        "\n",
        "iq = a*15 + 100\n",
        "iq"
      ],
      "metadata": {
        "id": "7li72rKE6MA_",
        "outputId": "97809add-a0e0-4f20-adc9-ee0ead9364a2",
        "colab": {
          "base_uri": "https://localhost:8080/"
        }
      },
      "execution_count": null,
      "outputs": [
        {
          "output_type": "execute_result",
          "data": {
            "text/plain": [
              "93.47354398455407"
            ]
          },
          "metadata": {},
          "execution_count": 18
        }
      ]
    },
    {
      "cell_type": "code",
      "source": [
        "#for\n",
        "s = 0\n",
        "for i in range(1,100,2):\n",
        "  s = s + i\n",
        "print(s)"
      ],
      "metadata": {
        "id": "W1sZLbjJ7TPZ",
        "outputId": "680a86e5-fcd4-4c07-8485-a2752620e91f",
        "colab": {
          "base_uri": "https://localhost:8080/"
        }
      },
      "execution_count": null,
      "outputs": [
        {
          "output_type": "stream",
          "name": "stdout",
          "text": [
            "2500\n"
          ]
        }
      ]
    },
    {
      "cell_type": "code",
      "source": [
        "#while\n",
        "a = 0\n",
        "while a < 10:\n",
        "  print (a)\n",
        "  a += 1\n"
      ],
      "metadata": {
        "id": "8_9VU8Kcnk7B",
        "outputId": "c5d292ba-dc2b-4ad5-c2a4-18f64e89ff17",
        "colab": {
          "base_uri": "https://localhost:8080/"
        }
      },
      "execution_count": 14,
      "outputs": [
        {
          "output_type": "stream",
          "name": "stdout",
          "text": [
            "0\n",
            "1\n",
            "2\n",
            "3\n",
            "4\n",
            "5\n",
            "6\n",
            "7\n",
            "8\n",
            "9\n"
          ]
        }
      ]
    }
  ]
}