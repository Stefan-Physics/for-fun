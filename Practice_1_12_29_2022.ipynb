{
  "nbformat": 4,
  "nbformat_minor": 0,
  "metadata": {
    "colab": {
      "provenance": [],
      "authorship_tag": "ABX9TyMvLO7oiZze+YZFZjpC3eMV",
      "include_colab_link": true
    },
    "kernelspec": {
      "name": "python3",
      "display_name": "Python 3"
    },
    "language_info": {
      "name": "python"
    }
  },
  "cells": [
    {
      "cell_type": "markdown",
      "metadata": {
        "id": "view-in-github",
        "colab_type": "text"
      },
      "source": [
        "<a href=\"https://colab.research.google.com/github/Stefan-Physics/for-fun/blob/main/Practice_1_12_29_2022.ipynb\" target=\"_parent\"><img src=\"https://colab.research.google.com/assets/colab-badge.svg\" alt=\"Open In Colab\"/></a>"
      ]
    },
    {
      "cell_type": "code",
      "source": [
        "print(\"hi\")\n",
        "import numpy as np\n",
        "import matplotlib.pyplot as plt"
      ],
      "metadata": {
        "colab": {
          "base_uri": "https://localhost:8080/"
        },
        "id": "Jyfl5U1MuX6Q",
        "outputId": "b06b2d72-3f12-4523-f9ca-72668245d087"
      },
      "execution_count": 1,
      "outputs": [
        {
          "output_type": "stream",
          "name": "stdout",
          "text": [
            "hi\n"
          ]
        }
      ]
    },
    {
      "cell_type": "code",
      "source": [
        "from IPython.lib.security import random\n",
        "#to think about if one were meta solve (a + b)/ c\n",
        "f = np.random.rand()\n",
        "a = float(f)\n",
        "\n",
        "b = float(input(\"b is \"))\n",
        "c = eval(input(\"c is \")) #how to make it take inputs without putting the .0 afterward\n",
        "\n",
        "e = a*b\n",
        "if c == 0:\n",
        "  print(\"solution is undefined\")\n",
        "elif e ==0:\n",
        "  print(\"solution is 0\")\n",
        "else:\n",
        "  d = (a + b)/ c\n",
        "  print(d)\n",
        "  print(d)\n"
      ],
      "metadata": {
        "id": "qZXQRNLo1P8N",
        "outputId": "c40a26f3-9ad9-4066-f2c7-655b2cd8fd30",
        "colab": {
          "base_uri": "https://localhost:8080/",
          "height": 393
        }
      },
      "execution_count": 7,
      "outputs": [
        {
          "output_type": "error",
          "ename": "KeyboardInterrupt",
          "evalue": "ignored",
          "traceback": [
            "\u001b[0;31m---------------------------------------------------------------------------\u001b[0m",
            "\u001b[0;31mKeyboardInterrupt\u001b[0m                         Traceback (most recent call last)",
            "\u001b[0;32m<ipython-input-7-ea79a634225c>\u001b[0m in \u001b[0;36m<cell line: 6>\u001b[0;34m()\u001b[0m\n\u001b[1;32m      4\u001b[0m \u001b[0ma\u001b[0m \u001b[0;34m=\u001b[0m \u001b[0mfloat\u001b[0m\u001b[0;34m(\u001b[0m\u001b[0mf\u001b[0m\u001b[0;34m)\u001b[0m\u001b[0;34m\u001b[0m\u001b[0;34m\u001b[0m\u001b[0m\n\u001b[1;32m      5\u001b[0m \u001b[0;34m\u001b[0m\u001b[0m\n\u001b[0;32m----> 6\u001b[0;31m \u001b[0mb\u001b[0m \u001b[0;34m=\u001b[0m \u001b[0mfloat\u001b[0m\u001b[0;34m(\u001b[0m\u001b[0minput\u001b[0m\u001b[0;34m(\u001b[0m\u001b[0;34m\"b is \"\u001b[0m\u001b[0;34m)\u001b[0m\u001b[0;34m)\u001b[0m\u001b[0;34m\u001b[0m\u001b[0;34m\u001b[0m\u001b[0m\n\u001b[0m\u001b[1;32m      7\u001b[0m \u001b[0mc\u001b[0m \u001b[0;34m=\u001b[0m \u001b[0meval\u001b[0m\u001b[0;34m(\u001b[0m\u001b[0minput\u001b[0m\u001b[0;34m(\u001b[0m\u001b[0;34m\"c is \"\u001b[0m\u001b[0;34m)\u001b[0m\u001b[0;34m)\u001b[0m \u001b[0;31m#how to make it take inputs without putting the .0 afterward\u001b[0m\u001b[0;34m\u001b[0m\u001b[0;34m\u001b[0m\u001b[0m\n\u001b[1;32m      8\u001b[0m \u001b[0;34m\u001b[0m\u001b[0m\n",
            "\u001b[0;32m/usr/local/lib/python3.10/dist-packages/ipykernel/kernelbase.py\u001b[0m in \u001b[0;36mraw_input\u001b[0;34m(self, prompt)\u001b[0m\n\u001b[1;32m    849\u001b[0m                 \u001b[0;34m\"raw_input was called, but this frontend does not support input requests.\"\u001b[0m\u001b[0;34m\u001b[0m\u001b[0;34m\u001b[0m\u001b[0m\n\u001b[1;32m    850\u001b[0m             )\n\u001b[0;32m--> 851\u001b[0;31m         return self._input_request(str(prompt),\n\u001b[0m\u001b[1;32m    852\u001b[0m             \u001b[0mself\u001b[0m\u001b[0;34m.\u001b[0m\u001b[0m_parent_ident\u001b[0m\u001b[0;34m,\u001b[0m\u001b[0;34m\u001b[0m\u001b[0;34m\u001b[0m\u001b[0m\n\u001b[1;32m    853\u001b[0m             \u001b[0mself\u001b[0m\u001b[0;34m.\u001b[0m\u001b[0m_parent_header\u001b[0m\u001b[0;34m,\u001b[0m\u001b[0;34m\u001b[0m\u001b[0;34m\u001b[0m\u001b[0m\n",
            "\u001b[0;32m/usr/local/lib/python3.10/dist-packages/ipykernel/kernelbase.py\u001b[0m in \u001b[0;36m_input_request\u001b[0;34m(self, prompt, ident, parent, password)\u001b[0m\n\u001b[1;32m    893\u001b[0m             \u001b[0;32mexcept\u001b[0m \u001b[0mKeyboardInterrupt\u001b[0m\u001b[0;34m:\u001b[0m\u001b[0;34m\u001b[0m\u001b[0;34m\u001b[0m\u001b[0m\n\u001b[1;32m    894\u001b[0m                 \u001b[0;31m# re-raise KeyboardInterrupt, to truncate traceback\u001b[0m\u001b[0;34m\u001b[0m\u001b[0;34m\u001b[0m\u001b[0m\n\u001b[0;32m--> 895\u001b[0;31m                 \u001b[0;32mraise\u001b[0m \u001b[0mKeyboardInterrupt\u001b[0m\u001b[0;34m(\u001b[0m\u001b[0;34m\"Interrupted by user\"\u001b[0m\u001b[0;34m)\u001b[0m \u001b[0;32mfrom\u001b[0m \u001b[0;32mNone\u001b[0m\u001b[0;34m\u001b[0m\u001b[0;34m\u001b[0m\u001b[0m\n\u001b[0m\u001b[1;32m    896\u001b[0m             \u001b[0;32mexcept\u001b[0m \u001b[0mException\u001b[0m \u001b[0;32mas\u001b[0m \u001b[0me\u001b[0m\u001b[0;34m:\u001b[0m\u001b[0;34m\u001b[0m\u001b[0;34m\u001b[0m\u001b[0m\n\u001b[1;32m    897\u001b[0m                 \u001b[0mself\u001b[0m\u001b[0;34m.\u001b[0m\u001b[0mlog\u001b[0m\u001b[0;34m.\u001b[0m\u001b[0mwarning\u001b[0m\u001b[0;34m(\u001b[0m\u001b[0;34m\"Invalid Message:\"\u001b[0m\u001b[0;34m,\u001b[0m \u001b[0mexc_info\u001b[0m\u001b[0;34m=\u001b[0m\u001b[0;32mTrue\u001b[0m\u001b[0;34m)\u001b[0m\u001b[0;34m\u001b[0m\u001b[0;34m\u001b[0m\u001b[0m\n",
            "\u001b[0;31mKeyboardInterrupt\u001b[0m: Interrupted by user"
          ]
        }
      ]
    },
    {
      "cell_type": "code",
      "source": [
        "a = np.random.rand(2,5)\n",
        "print(a)\n",
        "for pice in a:\n",
        "  print (2*pice)\n",
        "\n",
        "for tpice in [\"Max\", \"Molly\", \"Buster\", \"Maggie\", \"Lucy\"]:\n",
        "  print (2*tpice)"
      ],
      "metadata": {
        "id": "OHb6JqAB2_ld",
        "outputId": "aafaefc2-ccd4-4442-e135-ef525867bd4f",
        "colab": {
          "base_uri": "https://localhost:8080/"
        }
      },
      "execution_count": null,
      "outputs": [
        {
          "output_type": "stream",
          "name": "stdout",
          "text": [
            "[[0.22059123 0.26833363 0.91586503 0.43523151 0.46888078]\n",
            " [0.10564501 0.44124301 0.31561526 0.4715396  0.67444165]]\n",
            "[0.44118247 0.53666726 1.83173005 0.87046301 0.93776156]\n",
            "[0.21129001 0.88248602 0.63123053 0.9430792  1.34888331]\n",
            "MaxMax\n",
            "MollyMolly\n",
            "BusterBuster\n",
            "MaggieMaggie\n",
            "LucyLucy\n"
          ]
        }
      ]
    },
    {
      "cell_type": "code",
      "source": [
        "a = np.random.randn()\n",
        "\n",
        "iq = a*15 + 100\n",
        "iq"
      ],
      "metadata": {
        "id": "7li72rKE6MA_",
        "outputId": "97809add-a0e0-4f20-adc9-ee0ead9364a2",
        "colab": {
          "base_uri": "https://localhost:8080/"
        }
      },
      "execution_count": null,
      "outputs": [
        {
          "output_type": "execute_result",
          "data": {
            "text/plain": [
              "93.47354398455407"
            ]
          },
          "metadata": {},
          "execution_count": 18
        }
      ]
    },
    {
      "cell_type": "code",
      "source": [
        "#for\n",
        "s = 0\n",
        "for i in range(1,100,2):\n",
        "  s = s + i\n",
        "print(s)"
      ],
      "metadata": {
        "id": "W1sZLbjJ7TPZ",
        "outputId": "680a86e5-fcd4-4c07-8485-a2752620e91f",
        "colab": {
          "base_uri": "https://localhost:8080/"
        }
      },
      "execution_count": null,
      "outputs": [
        {
          "output_type": "stream",
          "name": "stdout",
          "text": [
            "2500\n"
          ]
        }
      ]
    },
    {
      "cell_type": "code",
      "source": [
        "z = 0\n",
        "x = [1,2,3,4]\n",
        "for i in range(1,10,1):\n",
        "  z = z + i\n",
        "print(z)"
      ],
      "metadata": {
        "colab": {
          "base_uri": "https://localhost:8080/"
        },
        "id": "Q8lN-ex3tiTc",
        "outputId": "8317ae40-30f4-43ab-9816-742a930c8ac3"
      },
      "execution_count": null,
      "outputs": [
        {
          "output_type": "stream",
          "name": "stdout",
          "text": [
            "45\n"
          ]
        }
      ]
    },
    {
      "cell_type": "code",
      "source": [
        "x = np.linspace(0,2*np.pi,3)\n",
        "\n",
        "def sinc(x):\n",
        "    y = []              \n",
        "    for xx in x:        \n",
        "        if xx==0.0:     \n",
        "            y += [1.0]  \n",
        "        else:           \n",
        "            y += [np.sin(xx)/xx]\n",
        "    return np.array(y)\n",
        "#print(sinc(11))\n",
        "#x = np.linspace(-10, 10, 256)\n",
        "\n",
        "y = sinc(x)\n",
        "print(sinc(x))\n",
        "#plt.plot(x,y)\n",
        "#plt.show()"
      ],
      "metadata": {
        "id": "i10ZJ24_VE83",
        "outputId": "f50aa5f0-39d3-436d-d924-e4d44d172165",
        "colab": {
          "base_uri": "https://localhost:8080/"
        }
      },
      "execution_count": 45,
      "outputs": [
        {
          "output_type": "stream",
          "name": "stdout",
          "text": [
            "[ 1.00000000e+00  3.89817183e-17 -3.89817183e-17]\n"
          ]
        }
      ]
    },
    {
      "cell_type": "code",
      "source": [
        "#while\n",
        "a = 0\n",
        "while a < 10:\n",
        "  print (a)\n",
        "  a += 1\n"
      ],
      "metadata": {
        "id": "8_9VU8Kcnk7B",
        "colab": {
          "base_uri": "https://localhost:8080/"
        },
        "outputId": "c5d292ba-dc2b-4ad5-c2a4-18f64e89ff17"
      },
      "execution_count": null,
      "outputs": [
        {
          "output_type": "stream",
          "name": "stdout",
          "text": [
            "0\n",
            "1\n",
            "2\n",
            "3\n",
            "4\n",
            "5\n",
            "6\n",
            "7\n",
            "8\n",
            "9\n"
          ]
        }
      ]
    },
    {
      "cell_type": "code",
      "source": [
        "numberinput = eval(input(\"give a postive integer\"))\n",
        "def FactorialW(numberinput):\n",
        "  y = numberinput\n",
        "  if numberinput < 0:\n",
        "    print (\"naw fam\")\n",
        "  elif numberinput == 0:\n",
        "    print (\"no shot\")\n",
        "  else:\n",
        "    while numberinput > 1:\n",
        "      numberinput, y = numberinput-1, (numberinput-1)*y\n",
        "      print (y)\n",
        "\n",
        "  return y\n",
        "\n",
        "FactorialW(numberinput)\n",
        "\n",
        "print(\"block\")\n",
        "\n",
        "def FactorialF(numberinput):\n",
        "  x=1\n",
        "  if numberinput < 0:\n",
        "    print (\"naw fam\")\n",
        "  elif numberinput == 0:\n",
        "    print (\"no shot\")\n",
        "  else:\n",
        "    for i in range (1, numberinput+1,1):\n",
        "      print (x)\n",
        "      x *= i\n",
        "      i+1\n",
        "      \n",
        "  return x\n",
        "\n",
        "FactorialF(numberinput)\n"
      ],
      "metadata": {
        "id": "47tpBl3HELKH"
      },
      "execution_count": null,
      "outputs": []
    }
  ]
}